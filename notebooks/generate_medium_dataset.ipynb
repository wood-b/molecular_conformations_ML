{
 "cells": [
  {
   "cell_type": "code",
   "execution_count": 1,
   "metadata": {},
   "outputs": [
    {
     "name": "stderr",
     "output_type": "stream",
     "text": [
      "/usr/local/anaconda3/envs/li_place/lib/python3.7/site-packages/sklearn/externals/joblib/__init__.py:15: DeprecationWarning: sklearn.externals.joblib is deprecated in 0.21 and will be removed in 0.23. Please import this functionality directly from joblib, which can be installed with: pip install joblib. If this warning is raised when loading pickled models, you may need to re-serialize those models with scikit-learn 0.21+.\n",
      "  warnings.warn(msg, category=DeprecationWarning)\n"
     ]
    }
   ],
   "source": [
    "from rdkit import Chem\n",
    "from rdkit.Chem import AllChem\n",
    "from deepchem.utils import conformers\n",
    "from rdkit.Chem.rdMolTransforms import GetDihedralDeg\n",
    "from rdkit.Chem.rdMolTransforms import SetDihedralDeg\n",
    "import numpy as np\n",
    "import pandas as pd\n",
    "import os"
   ]
  },
  {
   "cell_type": "markdown",
   "metadata": {},
   "source": [
    "# Generate a dataset based on torsional configurations"
   ]
  },
  {
   "cell_type": "markdown",
   "metadata": {},
   "source": [
    "This notebook generates data files (.sdf and corresponding .sdf.csv) to be read by DeepChem. The specific example explored here is the energy of different polyethylene conformations. Torsional degrees of freedom play a dominate role in determining conformations, so all torsional combinations we enumerated for a short (3 monomers, 6 total carbons, and 3 unique torsion angles) polyethylene chain. The energy of each conformer was calcuated using the UFF potential implemented in RDKit.        "
   ]
  },
  {
   "cell_type": "code",
   "execution_count": 2,
   "metadata": {},
   "outputs": [],
   "source": [
    "# list of all torsion angles"
   ]
  },
  {
   "cell_type": "code",
   "execution_count": 3,
   "metadata": {},
   "outputs": [],
   "source": [
    "torsion_angles = np.linspace(-170.0, 180.0, num=36)"
   ]
  },
  {
   "cell_type": "code",
   "execution_count": 4,
   "metadata": {},
   "outputs": [
    {
     "data": {
      "text/plain": [
       "array([-170., -160., -150., -140., -130., -120., -110., -100.,  -90.,\n",
       "        -80.,  -70.,  -60.,  -50.,  -40.,  -30.,  -20.,  -10.,    0.,\n",
       "         10.,   20.,   30.,   40.,   50.,   60.,   70.,   80.,   90.,\n",
       "        100.,  110.,  120.,  130.,  140.,  150.,  160.,  170.,  180.])"
      ]
     },
     "execution_count": 4,
     "metadata": {},
     "output_type": "execute_result"
    }
   ],
   "source": [
    "torsion_angles"
   ]
  },
  {
   "cell_type": "code",
   "execution_count": 5,
   "metadata": {},
   "outputs": [],
   "source": [
    "# array of all combinations for 3 torsion angles ~46,000\n",
    "# this includes all combinations, not all will be unique because of symmetry"
   ]
  },
  {
   "cell_type": "code",
   "execution_count": 6,
   "metadata": {},
   "outputs": [],
   "source": [
    "tor_combinations = np.zeros((46656, 3)) "
   ]
  },
  {
   "cell_type": "code",
   "execution_count": 7,
   "metadata": {},
   "outputs": [],
   "source": [
    "count = 0\n",
    "for i in torsion_angles:\n",
    "    for j in torsion_angles:\n",
    "        for k in torsion_angles:\n",
    "            tor_combinations[count] = [i, j, k]\n",
    "            count += 1"
   ]
  },
  {
   "cell_type": "code",
   "execution_count": 8,
   "metadata": {},
   "outputs": [],
   "source": [
    "# load the short polyethylene molecule from file, keeping the hydrogens\n",
    "pe_n6_mol = Chem.MolFromMolFile('../data/pe_n6.mol', removeHs=False)"
   ]
  },
  {
   "cell_type": "code",
   "execution_count": 9,
   "metadata": {},
   "outputs": [],
   "source": [
    "# these are the atoms in each torsion respectively\n",
    "# can view the molecule in avagadro to check\n",
    "pe_n6_tor_atoms = [[0, 1, 5, 8], [1, 5, 8, 11], [5, 8, 11, 14]]"
   ]
  },
  {
   "cell_type": "code",
   "execution_count": 10,
   "metadata": {},
   "outputs": [],
   "source": [
    "# define a function to randomly select a few thousand torsion combinations,\n",
    "# rotate the base molecule, calculates the energy, and put into a pandas dataframe  "
   ]
  },
  {
   "cell_type": "code",
   "execution_count": 11,
   "metadata": {},
   "outputs": [],
   "source": [
    "# this function selects randomly a number of torsional conformations\n",
    "# it returns three datasets to do sequential learning\n",
    "def random_tor_array(tor_array, num):\n",
    "    tor_copy = np.copy(tor_array)\n",
    "    np.random.shuffle(tor_copy)\n",
    "    rand_tor_1 = tor_copy[:num]\n",
    "    rand_tor_2 = tor_copy[num:(2 * num)]\n",
    "    rand_tor_3 = tor_copy[(2 * num):(3 * num)]\n",
    "    return rand_tor_1, rand_tor_2, rand_tor_3"
   ]
  },
  {
   "cell_type": "code",
   "execution_count": 12,
   "metadata": {},
   "outputs": [],
   "source": [
    "# this function rotates all the torsion angles in a conformation\n",
    "def rotate_all_torsions(base_mol, tor_atoms, tor_angles):\n",
    "    # copy base mol\n",
    "    rot_mol = Chem.Mol(base_mol)\n",
    "    # loop through all the torsion angles in the conformer\n",
    "    for i, atom in enumerate(tor_atoms):\n",
    "        SetDihedralDeg(rot_mol.GetConformer(0), atom[0], atom[1], atom[2], atom[3], tor_angles[i])\n",
    "    return rot_mol"
   ]
  },
  {
   "cell_type": "raw",
   "metadata": {},
   "source": [
    "# this is a test to see if all the torsion angles are being set correctly\n",
    "# the first array in test_rand should match the GetDihedrals\n",
    "test_rand = random_tor_array(tor_combinations, 10)\n",
    "print(test_rand)\n",
    "new_mol = rotate_all_torsions(pe_n6_mol, pe_n6_tor_atoms, test_rand[0])\n",
    "print(GetDihedralDeg(new_mol.GetConformer(0), 0, 1, 5, 8))\n",
    "print(GetDihedralDeg(new_mol.GetConformer(0), 1, 5, 8, 11))\n",
    "print(GetDihedralDeg(new_mol.GetConformer(0), 5, 8, 11, 14))"
   ]
  },
  {
   "cell_type": "code",
   "execution_count": null,
   "metadata": {},
   "outputs": [],
   "source": [
    "# Energy units are kcal/mol"
   ]
  },
  {
   "cell_type": "code",
   "execution_count": 13,
   "metadata": {},
   "outputs": [],
   "source": [
    "def calc_uff_energy(mol):\n",
    "    ff = AllChem.UFFGetMoleculeForceField(mol)\n",
    "    energy = ff.CalcEnergy()\n",
    "    return energy"
   ]
  },
  {
   "cell_type": "code",
   "execution_count": 14,
   "metadata": {},
   "outputs": [],
   "source": [
    "def generate_conform_data(base_mol, tors_array, tor_atoms, sample_num):\n",
    "    mol_list = []\n",
    "    energy_list = []\n",
    "    for i, angles in enumerate(tors_array):\n",
    "        rot_mol = rotate_all_torsions(base_mol, tor_atoms, angles)\n",
    "        energy = calc_uff_energy(rot_mol)\n",
    "        # set properties to tag molecules in the .sdf file\n",
    "        rot_mol.SetProp(\"_Name\",\"pe_{id}\".format(id=i))\n",
    "        rot_mol.SetProp(\"energy\", \"{e}\".format(e=energy))\n",
    "        # add energy if statements here\n",
    "        # this if statement limits conformations to under 200 kcal/mol, so no overlapping atoms\n",
    "        if energy < 200:\n",
    "            mol_list.append(rot_mol)\n",
    "            energy_list.append(energy)\n",
    "        else:\n",
    "            continue\n",
    "        if len(mol_list) == sample_num:\n",
    "            break\n",
    "        else:\n",
    "            continue\n",
    "    return mol_list, energy_list"
   ]
  },
  {
   "cell_type": "code",
   "execution_count": 15,
   "metadata": {},
   "outputs": [],
   "source": [
    "def write_sdf(filename, mol_list):\n",
    "    w = Chem.SDWriter(filename)\n",
    "    for m in mol_list: w.write(m)"
   ]
  },
  {
   "cell_type": "code",
   "execution_count": 16,
   "metadata": {},
   "outputs": [],
   "source": [
    "def write_csv(filename, energy_list):\n",
    "    e_data = {\"energy\": energy_list}\n",
    "    e_df = pd.DataFrame(e_data)\n",
    "    e_df.to_csv(filename, index=False)"
   ]
  },
  {
   "cell_type": "code",
   "execution_count": 17,
   "metadata": {},
   "outputs": [],
   "source": [
    "# generate unique torsion combinations for all data files\n",
    "# sample number in the tor_array needs to be higher than the desired sample number because\n",
    "# of downselection by the energy cutoff"
   ]
  },
  {
   "cell_type": "code",
   "execution_count": 18,
   "metadata": {},
   "outputs": [],
   "source": [
    "pe_rand_tor_array_1, pe_rand_tor_array_2, pe_rand_tor_array_3 = random_tor_array(tor_combinations, 1000)"
   ]
  },
  {
   "cell_type": "code",
   "execution_count": 19,
   "metadata": {},
   "outputs": [],
   "source": [
    "# rotate molecules, calculate energies, and write sdf/cvs files for deep chem"
   ]
  },
  {
   "cell_type": "code",
   "execution_count": 20,
   "metadata": {},
   "outputs": [],
   "source": [
    "pe_mol_list_1, pe_energy_list_1 = generate_conform_data(pe_n6_mol, \n",
    "                                                        pe_rand_tor_array_1, \n",
    "                                                        pe_n6_tor_atoms, 500)"
   ]
  },
  {
   "cell_type": "code",
   "execution_count": 21,
   "metadata": {},
   "outputs": [],
   "source": [
    "# write the sdf file and corresponding csv\n",
    "write_sdf(\"../data/medium_dataset/pe_conformer_1.sdf\", pe_mol_list_1)\n",
    "write_csv(\"../data/medium_dataset/pe_conformer_1.sdf.csv\", pe_energy_list_1)"
   ]
  },
  {
   "cell_type": "code",
   "execution_count": 22,
   "metadata": {},
   "outputs": [],
   "source": [
    "# dataset number 2 "
   ]
  },
  {
   "cell_type": "code",
   "execution_count": 23,
   "metadata": {},
   "outputs": [],
   "source": [
    "pe_mol_list_2, pe_energy_list_2 = generate_conform_data(pe_n6_mol, \n",
    "                                                        pe_rand_tor_array_2, \n",
    "                                                        pe_n6_tor_atoms, 500)"
   ]
  },
  {
   "cell_type": "code",
   "execution_count": 24,
   "metadata": {},
   "outputs": [],
   "source": [
    "write_sdf(\"../data/medium_dataset/pe_conformer_2.sdf\", pe_mol_list_2)\n",
    "write_csv(\"../data/medium_dataset/pe_conformer_2.sdf.csv\", pe_energy_list_2)"
   ]
  },
  {
   "cell_type": "code",
   "execution_count": 25,
   "metadata": {},
   "outputs": [],
   "source": [
    "# dataset number 3 "
   ]
  },
  {
   "cell_type": "code",
   "execution_count": 26,
   "metadata": {},
   "outputs": [],
   "source": [
    "pe_mol_list_3, pe_energy_list_3 = generate_conform_data(pe_n6_mol, \n",
    "                                                        pe_rand_tor_array_3, \n",
    "                                                        pe_n6_tor_atoms, 500)"
   ]
  },
  {
   "cell_type": "code",
   "execution_count": 27,
   "metadata": {},
   "outputs": [],
   "source": [
    "write_sdf(\"../data/medium_dataset/pe_conformer_3.sdf\", pe_mol_list_3)\n",
    "write_csv(\"../data/medium_dataset/pe_conformer_3.sdf.csv\", pe_energy_list_3)"
   ]
  }
 ],
 "metadata": {
  "kernelspec": {
   "display_name": "Python 3",
   "language": "python",
   "name": "python3"
  },
  "language_info": {
   "codemirror_mode": {
    "name": "ipython",
    "version": 3
   },
   "file_extension": ".py",
   "mimetype": "text/x-python",
   "name": "python",
   "nbconvert_exporter": "python",
   "pygments_lexer": "ipython3",
   "version": "3.7.3"
  }
 },
 "nbformat": 4,
 "nbformat_minor": 2
}
